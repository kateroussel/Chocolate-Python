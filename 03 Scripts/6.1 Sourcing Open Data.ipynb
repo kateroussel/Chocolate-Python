{
 "cells": [
  {
   "cell_type": "markdown",
   "id": "541457f7",
   "metadata": {},
   "source": [
    "## Importing Libraries"
   ]
  },
  {
   "cell_type": "code",
   "execution_count": 1,
   "id": "4549fdd0",
   "metadata": {},
   "outputs": [],
   "source": [
    "import pandas as pd\n",
    "import numpy as np\n",
    "import os"
   ]
  },
  {
   "cell_type": "markdown",
   "id": "e96c634f",
   "metadata": {},
   "source": [
    "## Importing Data"
   ]
  },
  {
   "cell_type": "code",
   "execution_count": 2,
   "id": "afc4db63",
   "metadata": {},
   "outputs": [],
   "source": [
    "# Establishing a path\n",
    "path = r'/Users/Kate/Documents/Chocolate Bar Ratings Analysis'"
   ]
  },
  {
   "cell_type": "code",
   "execution_count": 7,
   "id": "32e0ccfd",
   "metadata": {},
   "outputs": [],
   "source": [
    "# Importing chcolate bar data\n",
    "df = pd.read_csv(os.path.join(path, '02 Data', 'Original Data', 'flavors_of_cacao.csv'))"
   ]
  },
  {
   "cell_type": "code",
   "execution_count": 8,
   "id": "c8ad1369",
   "metadata": {},
   "outputs": [
    {
     "data": {
      "text/html": [
       "<div>\n",
       "<style scoped>\n",
       "    .dataframe tbody tr th:only-of-type {\n",
       "        vertical-align: middle;\n",
       "    }\n",
       "\n",
       "    .dataframe tbody tr th {\n",
       "        vertical-align: top;\n",
       "    }\n",
       "\n",
       "    .dataframe thead th {\n",
       "        text-align: right;\n",
       "    }\n",
       "</style>\n",
       "<table border=\"1\" class=\"dataframe\">\n",
       "  <thead>\n",
       "    <tr style=\"text-align: right;\">\n",
       "      <th></th>\n",
       "      <th>Company \\n(Maker-if known)</th>\n",
       "      <th>Specific Bean Origin\\nor Bar Name</th>\n",
       "      <th>REF</th>\n",
       "      <th>Review\\nDate</th>\n",
       "      <th>Cocoa\\nPercent</th>\n",
       "      <th>Company\\nLocation</th>\n",
       "      <th>Rating</th>\n",
       "      <th>Bean\\nType</th>\n",
       "      <th>Broad Bean\\nOrigin</th>\n",
       "    </tr>\n",
       "  </thead>\n",
       "  <tbody>\n",
       "    <tr>\n",
       "      <th>0</th>\n",
       "      <td>A. Morin</td>\n",
       "      <td>Agua Grande</td>\n",
       "      <td>1876</td>\n",
       "      <td>2016</td>\n",
       "      <td>63%</td>\n",
       "      <td>France</td>\n",
       "      <td>3.75</td>\n",
       "      <td></td>\n",
       "      <td>Sao Tome</td>\n",
       "    </tr>\n",
       "    <tr>\n",
       "      <th>1</th>\n",
       "      <td>A. Morin</td>\n",
       "      <td>Kpime</td>\n",
       "      <td>1676</td>\n",
       "      <td>2015</td>\n",
       "      <td>70%</td>\n",
       "      <td>France</td>\n",
       "      <td>2.75</td>\n",
       "      <td></td>\n",
       "      <td>Togo</td>\n",
       "    </tr>\n",
       "    <tr>\n",
       "      <th>2</th>\n",
       "      <td>A. Morin</td>\n",
       "      <td>Atsane</td>\n",
       "      <td>1676</td>\n",
       "      <td>2015</td>\n",
       "      <td>70%</td>\n",
       "      <td>France</td>\n",
       "      <td>3.00</td>\n",
       "      <td></td>\n",
       "      <td>Togo</td>\n",
       "    </tr>\n",
       "    <tr>\n",
       "      <th>3</th>\n",
       "      <td>A. Morin</td>\n",
       "      <td>Akata</td>\n",
       "      <td>1680</td>\n",
       "      <td>2015</td>\n",
       "      <td>70%</td>\n",
       "      <td>France</td>\n",
       "      <td>3.50</td>\n",
       "      <td></td>\n",
       "      <td>Togo</td>\n",
       "    </tr>\n",
       "    <tr>\n",
       "      <th>4</th>\n",
       "      <td>A. Morin</td>\n",
       "      <td>Quilla</td>\n",
       "      <td>1704</td>\n",
       "      <td>2015</td>\n",
       "      <td>70%</td>\n",
       "      <td>France</td>\n",
       "      <td>3.50</td>\n",
       "      <td></td>\n",
       "      <td>Peru</td>\n",
       "    </tr>\n",
       "  </tbody>\n",
       "</table>\n",
       "</div>"
      ],
      "text/plain": [
       "  Company \\n(Maker-if known) Specific Bean Origin\\nor Bar Name   REF  \\\n",
       "0                   A. Morin                       Agua Grande  1876   \n",
       "1                   A. Morin                             Kpime  1676   \n",
       "2                   A. Morin                            Atsane  1676   \n",
       "3                   A. Morin                             Akata  1680   \n",
       "4                   A. Morin                            Quilla  1704   \n",
       "\n",
       "   Review\\nDate Cocoa\\nPercent Company\\nLocation  Rating Bean\\nType  \\\n",
       "0          2016            63%            France    3.75              \n",
       "1          2015            70%            France    2.75              \n",
       "2          2015            70%            France    3.00              \n",
       "3          2015            70%            France    3.50              \n",
       "4          2015            70%            France    3.50              \n",
       "\n",
       "  Broad Bean\\nOrigin  \n",
       "0           Sao Tome  \n",
       "1               Togo  \n",
       "2               Togo  \n",
       "3               Togo  \n",
       "4               Peru  "
      ]
     },
     "execution_count": 8,
     "metadata": {},
     "output_type": "execute_result"
    }
   ],
   "source": [
    "df.head()"
   ]
  },
  {
   "cell_type": "markdown",
   "id": "680084cf",
   "metadata": {},
   "source": [
    "### Re-naming Columns"
   ]
  },
  {
   "cell_type": "code",
   "execution_count": 29,
   "id": "aa0332dd",
   "metadata": {},
   "outputs": [],
   "source": [
    "# Rename the 'Company \\n(Maker-if known)' column to 'Company'\n",
    "df = df.rename(columns={'Company \\n(Maker-if known)': 'Company'})"
   ]
  },
  {
   "cell_type": "code",
   "execution_count": 12,
   "id": "e121c1a1",
   "metadata": {},
   "outputs": [],
   "source": [
    "# Rename the 'Specific Bean Origin\\nor Bar Name' column to 'Specific Origin'\n",
    "df = df.rename(columns={'Specific Bean Origin\\nor Bar Name': 'Specific Origin'})"
   ]
  },
  {
   "cell_type": "code",
   "execution_count": 13,
   "id": "cc29e3f8",
   "metadata": {},
   "outputs": [],
   "source": [
    "# Rename the 'Review\\nDate' column to 'Review Date'\n",
    "df = df.rename(columns={'Review\\nDate': 'Review Date'})"
   ]
  },
  {
   "cell_type": "code",
   "execution_count": 14,
   "id": "4d5e06ff",
   "metadata": {},
   "outputs": [],
   "source": [
    "# Rename the 'Cocoa\\nPercent' column to 'Cocoa Percent'\n",
    "df = df.rename(columns={'Cocoa\\nPercent': 'Cocoa Percent'})"
   ]
  },
  {
   "cell_type": "code",
   "execution_count": 15,
   "id": "b8666dfa",
   "metadata": {},
   "outputs": [],
   "source": [
    "# Rename the 'Company\\nLocation' column to 'Company Location'\n",
    "df = df.rename(columns={'Company\\nLocation': 'Company Location'})"
   ]
  },
  {
   "cell_type": "code",
   "execution_count": 16,
   "id": "553a80a8",
   "metadata": {},
   "outputs": [],
   "source": [
    "# Rename the 'Bean\\nType' column to 'Bean Variety'\n",
    "df = df.rename(columns={'Bean\\nType': 'Bean Variety'})"
   ]
  },
  {
   "cell_type": "code",
   "execution_count": 17,
   "id": "9d9aaa40",
   "metadata": {},
   "outputs": [],
   "source": [
    "# Rename the 'Broad Bean\\nOrigin' column to 'Broad Origin'\n",
    "df = df.rename(columns={'Broad Bean\\nOrigin': 'Broad Origin'})"
   ]
  },
  {
   "cell_type": "code",
   "execution_count": 52,
   "id": "64a0ec8a",
   "metadata": {},
   "outputs": [],
   "source": [
    "# Changing names of columns\n",
    "df.columns = ['Company', 'Specific Origin', 'Review Date', 'Cocoa Percent', 'Company Location', 'Rating', 'Bean Variety', 'Broad Origin']"
   ]
  },
  {
   "cell_type": "code",
   "execution_count": 53,
   "id": "c3515e53",
   "metadata": {},
   "outputs": [
    {
     "data": {
      "text/html": [
       "<div>\n",
       "<style scoped>\n",
       "    .dataframe tbody tr th:only-of-type {\n",
       "        vertical-align: middle;\n",
       "    }\n",
       "\n",
       "    .dataframe tbody tr th {\n",
       "        vertical-align: top;\n",
       "    }\n",
       "\n",
       "    .dataframe thead th {\n",
       "        text-align: right;\n",
       "    }\n",
       "</style>\n",
       "<table border=\"1\" class=\"dataframe\">\n",
       "  <thead>\n",
       "    <tr style=\"text-align: right;\">\n",
       "      <th></th>\n",
       "      <th>Company</th>\n",
       "      <th>Specific Origin</th>\n",
       "      <th>Review Date</th>\n",
       "      <th>Cocoa Percent</th>\n",
       "      <th>Company Location</th>\n",
       "      <th>Rating</th>\n",
       "      <th>Bean Variety</th>\n",
       "      <th>Broad Origin</th>\n",
       "    </tr>\n",
       "  </thead>\n",
       "  <tbody>\n",
       "    <tr>\n",
       "      <th>0</th>\n",
       "      <td>A. Morin</td>\n",
       "      <td>Agua Grande</td>\n",
       "      <td>2016</td>\n",
       "      <td>63%</td>\n",
       "      <td>France</td>\n",
       "      <td>3.75</td>\n",
       "      <td></td>\n",
       "      <td>Sao Tome</td>\n",
       "    </tr>\n",
       "    <tr>\n",
       "      <th>1</th>\n",
       "      <td>A. Morin</td>\n",
       "      <td>Kpime</td>\n",
       "      <td>2015</td>\n",
       "      <td>70%</td>\n",
       "      <td>France</td>\n",
       "      <td>2.75</td>\n",
       "      <td></td>\n",
       "      <td>Togo</td>\n",
       "    </tr>\n",
       "    <tr>\n",
       "      <th>2</th>\n",
       "      <td>A. Morin</td>\n",
       "      <td>Atsane</td>\n",
       "      <td>2015</td>\n",
       "      <td>70%</td>\n",
       "      <td>France</td>\n",
       "      <td>3.00</td>\n",
       "      <td></td>\n",
       "      <td>Togo</td>\n",
       "    </tr>\n",
       "    <tr>\n",
       "      <th>3</th>\n",
       "      <td>A. Morin</td>\n",
       "      <td>Akata</td>\n",
       "      <td>2015</td>\n",
       "      <td>70%</td>\n",
       "      <td>France</td>\n",
       "      <td>3.50</td>\n",
       "      <td></td>\n",
       "      <td>Togo</td>\n",
       "    </tr>\n",
       "    <tr>\n",
       "      <th>4</th>\n",
       "      <td>A. Morin</td>\n",
       "      <td>Quilla</td>\n",
       "      <td>2015</td>\n",
       "      <td>70%</td>\n",
       "      <td>France</td>\n",
       "      <td>3.50</td>\n",
       "      <td></td>\n",
       "      <td>Peru</td>\n",
       "    </tr>\n",
       "  </tbody>\n",
       "</table>\n",
       "</div>"
      ],
      "text/plain": [
       "    Company Specific Origin  Review Date Cocoa Percent Company Location  \\\n",
       "0  A. Morin     Agua Grande         2016           63%           France   \n",
       "1  A. Morin           Kpime         2015           70%           France   \n",
       "2  A. Morin          Atsane         2015           70%           France   \n",
       "3  A. Morin           Akata         2015           70%           France   \n",
       "4  A. Morin          Quilla         2015           70%           France   \n",
       "\n",
       "   Rating Bean Variety Broad Origin  \n",
       "0    3.75                  Sao Tome  \n",
       "1    2.75                      Togo  \n",
       "2    3.00                      Togo  \n",
       "3    3.50                      Togo  \n",
       "4    3.50                      Peru  "
      ]
     },
     "execution_count": 53,
     "metadata": {},
     "output_type": "execute_result"
    }
   ],
   "source": [
    "df.head()"
   ]
  },
  {
   "cell_type": "markdown",
   "id": "39d0dadd",
   "metadata": {},
   "source": [
    "### Dropping unnecessary columns"
   ]
  },
  {
   "cell_type": "code",
   "execution_count": 31,
   "id": "58c87382",
   "metadata": {},
   "outputs": [],
   "source": [
    "# Dropping the \"REF\" column\n",
    "df.drop('REF', axis=1, inplace=True)"
   ]
  },
  {
   "cell_type": "code",
   "execution_count": 60,
   "id": "24103ed5",
   "metadata": {},
   "outputs": [],
   "source": [
    "# Dropping the \"Specific Origin\" column\n",
    "df.drop('Specific Origin', axis=1, inplace=True)"
   ]
  },
  {
   "cell_type": "code",
   "execution_count": null,
   "id": "78a05255",
   "metadata": {},
   "outputs": [],
   "source": []
  },
  {
   "cell_type": "code",
   "execution_count": 61,
   "id": "5ba45c27",
   "metadata": {},
   "outputs": [
    {
     "data": {
      "text/html": [
       "<div>\n",
       "<style scoped>\n",
       "    .dataframe tbody tr th:only-of-type {\n",
       "        vertical-align: middle;\n",
       "    }\n",
       "\n",
       "    .dataframe tbody tr th {\n",
       "        vertical-align: top;\n",
       "    }\n",
       "\n",
       "    .dataframe thead th {\n",
       "        text-align: right;\n",
       "    }\n",
       "</style>\n",
       "<table border=\"1\" class=\"dataframe\">\n",
       "  <thead>\n",
       "    <tr style=\"text-align: right;\">\n",
       "      <th></th>\n",
       "      <th>Company</th>\n",
       "      <th>Review Date</th>\n",
       "      <th>Cocoa Percent</th>\n",
       "      <th>Company Location</th>\n",
       "      <th>Rating</th>\n",
       "      <th>Bean Variety</th>\n",
       "      <th>Broad Origin</th>\n",
       "    </tr>\n",
       "  </thead>\n",
       "  <tbody>\n",
       "    <tr>\n",
       "      <th>0</th>\n",
       "      <td>A. Morin</td>\n",
       "      <td>2016</td>\n",
       "      <td>63%</td>\n",
       "      <td>France</td>\n",
       "      <td>3.75</td>\n",
       "      <td></td>\n",
       "      <td>Sao Tome</td>\n",
       "    </tr>\n",
       "    <tr>\n",
       "      <th>1</th>\n",
       "      <td>A. Morin</td>\n",
       "      <td>2015</td>\n",
       "      <td>70%</td>\n",
       "      <td>France</td>\n",
       "      <td>2.75</td>\n",
       "      <td></td>\n",
       "      <td>Togo</td>\n",
       "    </tr>\n",
       "    <tr>\n",
       "      <th>2</th>\n",
       "      <td>A. Morin</td>\n",
       "      <td>2015</td>\n",
       "      <td>70%</td>\n",
       "      <td>France</td>\n",
       "      <td>3.00</td>\n",
       "      <td></td>\n",
       "      <td>Togo</td>\n",
       "    </tr>\n",
       "    <tr>\n",
       "      <th>3</th>\n",
       "      <td>A. Morin</td>\n",
       "      <td>2015</td>\n",
       "      <td>70%</td>\n",
       "      <td>France</td>\n",
       "      <td>3.50</td>\n",
       "      <td></td>\n",
       "      <td>Togo</td>\n",
       "    </tr>\n",
       "    <tr>\n",
       "      <th>4</th>\n",
       "      <td>A. Morin</td>\n",
       "      <td>2015</td>\n",
       "      <td>70%</td>\n",
       "      <td>France</td>\n",
       "      <td>3.50</td>\n",
       "      <td></td>\n",
       "      <td>Peru</td>\n",
       "    </tr>\n",
       "  </tbody>\n",
       "</table>\n",
       "</div>"
      ],
      "text/plain": [
       "    Company  Review Date Cocoa Percent Company Location  Rating Bean Variety  \\\n",
       "0  A. Morin         2016           63%           France    3.75                \n",
       "1  A. Morin         2015           70%           France    2.75                \n",
       "2  A. Morin         2015           70%           France    3.00                \n",
       "3  A. Morin         2015           70%           France    3.50                \n",
       "4  A. Morin         2015           70%           France    3.50                \n",
       "\n",
       "  Broad Origin  \n",
       "0     Sao Tome  \n",
       "1         Togo  \n",
       "2         Togo  \n",
       "3         Togo  \n",
       "4         Peru  "
      ]
     },
     "execution_count": 61,
     "metadata": {},
     "output_type": "execute_result"
    }
   ],
   "source": [
    "df.head()"
   ]
  },
  {
   "cell_type": "markdown",
   "id": "1b4cc9bb",
   "metadata": {},
   "source": [
    "### Checking for missing values"
   ]
  },
  {
   "cell_type": "code",
   "execution_count": 46,
   "id": "cd483dcc",
   "metadata": {},
   "outputs": [],
   "source": [
    "# Check for missing values\n",
    "missing_values = df.isna().sum()"
   ]
  },
  {
   "cell_type": "code",
   "execution_count": 47,
   "id": "55cba996",
   "metadata": {},
   "outputs": [
    {
     "name": "stdout",
     "output_type": "stream",
     "text": [
      "Company             0\n",
      "Specific Origin     0\n",
      "Date                0\n",
      "Cocoa Percent       0\n",
      "Company Location    0\n",
      "Rating              0\n",
      "Bean Variety        1\n",
      "Broad Origin        1\n",
      "dtype: int64\n"
     ]
    }
   ],
   "source": [
    "print(missing_values)"
   ]
  },
  {
   "cell_type": "markdown",
   "id": "81a2fa19",
   "metadata": {},
   "source": [
    "## Descriptive Statistics"
   ]
  },
  {
   "cell_type": "code",
   "execution_count": 40,
   "id": "947a31cc",
   "metadata": {},
   "outputs": [
    {
     "data": {
      "text/plain": [
       "(1795, 8)"
      ]
     },
     "execution_count": 40,
     "metadata": {},
     "output_type": "execute_result"
    }
   ],
   "source": [
    "df.shape"
   ]
  },
  {
   "cell_type": "code",
   "execution_count": 49,
   "id": "5e3cbbe7",
   "metadata": {},
   "outputs": [
    {
     "data": {
      "text/html": [
       "<div>\n",
       "<style scoped>\n",
       "    .dataframe tbody tr th:only-of-type {\n",
       "        vertical-align: middle;\n",
       "    }\n",
       "\n",
       "    .dataframe tbody tr th {\n",
       "        vertical-align: top;\n",
       "    }\n",
       "\n",
       "    .dataframe thead th {\n",
       "        text-align: right;\n",
       "    }\n",
       "</style>\n",
       "<table border=\"1\" class=\"dataframe\">\n",
       "  <thead>\n",
       "    <tr style=\"text-align: right;\">\n",
       "      <th></th>\n",
       "      <th>Date</th>\n",
       "      <th>Rating</th>\n",
       "    </tr>\n",
       "  </thead>\n",
       "  <tbody>\n",
       "    <tr>\n",
       "      <th>count</th>\n",
       "      <td>1795.000000</td>\n",
       "      <td>1795.000000</td>\n",
       "    </tr>\n",
       "    <tr>\n",
       "      <th>mean</th>\n",
       "      <td>2012.325348</td>\n",
       "      <td>3.185933</td>\n",
       "    </tr>\n",
       "    <tr>\n",
       "      <th>std</th>\n",
       "      <td>2.927210</td>\n",
       "      <td>0.478062</td>\n",
       "    </tr>\n",
       "    <tr>\n",
       "      <th>min</th>\n",
       "      <td>2006.000000</td>\n",
       "      <td>1.000000</td>\n",
       "    </tr>\n",
       "    <tr>\n",
       "      <th>25%</th>\n",
       "      <td>2010.000000</td>\n",
       "      <td>2.875000</td>\n",
       "    </tr>\n",
       "    <tr>\n",
       "      <th>50%</th>\n",
       "      <td>2013.000000</td>\n",
       "      <td>3.250000</td>\n",
       "    </tr>\n",
       "    <tr>\n",
       "      <th>75%</th>\n",
       "      <td>2015.000000</td>\n",
       "      <td>3.500000</td>\n",
       "    </tr>\n",
       "    <tr>\n",
       "      <th>max</th>\n",
       "      <td>2017.000000</td>\n",
       "      <td>5.000000</td>\n",
       "    </tr>\n",
       "  </tbody>\n",
       "</table>\n",
       "</div>"
      ],
      "text/plain": [
       "              Date       Rating\n",
       "count  1795.000000  1795.000000\n",
       "mean   2012.325348     3.185933\n",
       "std       2.927210     0.478062\n",
       "min    2006.000000     1.000000\n",
       "25%    2010.000000     2.875000\n",
       "50%    2013.000000     3.250000\n",
       "75%    2015.000000     3.500000\n",
       "max    2017.000000     5.000000"
      ]
     },
     "execution_count": 49,
     "metadata": {},
     "output_type": "execute_result"
    }
   ],
   "source": [
    "df.describe()"
   ]
  },
  {
   "cell_type": "code",
   "execution_count": 50,
   "id": "c7eeb402",
   "metadata": {},
   "outputs": [
    {
     "data": {
      "text/plain": [
       "<bound method DataFrame.info of        Company     Specific Origin  Date Cocoa Percent Company Location  \\\n",
       "0     A. Morin         Agua Grande  2016           63%           France   \n",
       "1     A. Morin               Kpime  2015           70%           France   \n",
       "2     A. Morin              Atsane  2015           70%           France   \n",
       "3     A. Morin               Akata  2015           70%           France   \n",
       "4     A. Morin              Quilla  2015           70%           France   \n",
       "...        ...                 ...   ...           ...              ...   \n",
       "1790    Zotter                Peru  2011           70%          Austria   \n",
       "1791    Zotter               Congo  2011           65%          Austria   \n",
       "1792    Zotter        Kerala State  2011           65%          Austria   \n",
       "1793    Zotter        Kerala State  2011           62%          Austria   \n",
       "1794    Zotter  Brazil, Mitzi Blue  2010           65%          Austria   \n",
       "\n",
       "      Rating Bean Variety Broad Origin  \n",
       "0       3.75                  Sao Tome  \n",
       "1       2.75                      Togo  \n",
       "2       3.00                      Togo  \n",
       "3       3.50                      Togo  \n",
       "4       3.50                      Peru  \n",
       "...      ...          ...          ...  \n",
       "1790    3.75                      Peru  \n",
       "1791    3.00    Forastero        Congo  \n",
       "1792    3.50    Forastero        India  \n",
       "1793    3.25                     India  \n",
       "1794    3.00                    Brazil  \n",
       "\n",
       "[1795 rows x 8 columns]>"
      ]
     },
     "execution_count": 50,
     "metadata": {},
     "output_type": "execute_result"
    }
   ],
   "source": [
    "df.info"
   ]
  },
  {
   "cell_type": "code",
   "execution_count": 51,
   "id": "6b56c544",
   "metadata": {},
   "outputs": [
    {
     "data": {
      "text/plain": [
       "Company              object\n",
       "Specific Origin      object\n",
       "Date                  int64\n",
       "Cocoa Percent        object\n",
       "Company Location     object\n",
       "Rating              float64\n",
       "Bean Variety         object\n",
       "Broad Origin         object\n",
       "dtype: object"
      ]
     },
     "execution_count": 51,
     "metadata": {},
     "output_type": "execute_result"
    }
   ],
   "source": [
    "df.dtypes"
   ]
  },
  {
   "cell_type": "code",
   "execution_count": 55,
   "id": "565eb872",
   "metadata": {},
   "outputs": [
    {
     "data": {
      "text/plain": [
       "U.S.A.               764\n",
       "France               156\n",
       "Canada               125\n",
       "U.K.                  96\n",
       "Italy                 63\n",
       "Ecuador               54\n",
       "Australia             49\n",
       "Belgium               40\n",
       "Switzerland           38\n",
       "Germany               35\n",
       "Austria               26\n",
       "Spain                 25\n",
       "Colombia              23\n",
       "Hungary               22\n",
       "Venezuela             20\n",
       "Japan                 17\n",
       "Brazil                17\n",
       "Peru                  17\n",
       "Madagascar            17\n",
       "New Zealand           17\n",
       "Denmark               15\n",
       "Vietnam               11\n",
       "Scotland              10\n",
       "Guatemala             10\n",
       "Israel                 9\n",
       "Costa Rica             9\n",
       "Argentina              9\n",
       "Poland                 8\n",
       "Lithuania              6\n",
       "Honduras               6\n",
       "South Korea            5\n",
       "Nicaragua              5\n",
       "Sweden                 5\n",
       "Domincan Republic      5\n",
       "Ireland                4\n",
       "Netherlands            4\n",
       "Fiji                   4\n",
       "Sao Tome               4\n",
       "Puerto Rico            4\n",
       "Mexico                 4\n",
       "Amsterdam              4\n",
       "Iceland                3\n",
       "Singapore              3\n",
       "Portugal               3\n",
       "Grenada                3\n",
       "South Africa           3\n",
       "Finland                2\n",
       "Bolivia                2\n",
       "St. Lucia              2\n",
       "Chile                  2\n",
       "Philippines            1\n",
       "Czech Republic         1\n",
       "India                  1\n",
       "Martinique             1\n",
       "Niacragua              1\n",
       "Ghana                  1\n",
       "Wales                  1\n",
       "Eucador                1\n",
       "Russia                 1\n",
       "Suriname               1\n",
       "Name: Company Location, dtype: int64"
      ]
     },
     "execution_count": 55,
     "metadata": {},
     "output_type": "execute_result"
    }
   ],
   "source": [
    "df['Company Location'].value_counts()"
   ]
  },
  {
   "cell_type": "markdown",
   "id": "2636958f",
   "metadata": {},
   "source": [
    "There are two countries that have been misspelled, \"Eucador\" should be Ecuador, and \"Niacragua\" should be Nicaragua"
   ]
  },
  {
   "cell_type": "code",
   "execution_count": 57,
   "id": "31acfbf1",
   "metadata": {},
   "outputs": [],
   "source": [
    "# Replace the misspelled country name with the correct name\n",
    "df[\"Company Location\"] = df[\"Company Location\"].replace(\"Eucador\", \"Ecuador\")"
   ]
  },
  {
   "cell_type": "code",
   "execution_count": 58,
   "id": "537c71df",
   "metadata": {},
   "outputs": [],
   "source": [
    "# Replace the misspelled country name with the correct name\n",
    "df[\"Company Location\"] = df[\"Company Location\"].replace(\"Niacragua\", \"Nicaragua\")"
   ]
  },
  {
   "cell_type": "code",
   "execution_count": 59,
   "id": "4a363199",
   "metadata": {},
   "outputs": [
    {
     "data": {
      "text/plain": [
       "U.S.A.               764\n",
       "France               156\n",
       "Canada               125\n",
       "U.K.                  96\n",
       "Italy                 63\n",
       "Ecuador               55\n",
       "Australia             49\n",
       "Belgium               40\n",
       "Switzerland           38\n",
       "Germany               35\n",
       "Austria               26\n",
       "Spain                 25\n",
       "Colombia              23\n",
       "Hungary               22\n",
       "Venezuela             20\n",
       "Brazil                17\n",
       "Madagascar            17\n",
       "Peru                  17\n",
       "Japan                 17\n",
       "New Zealand           17\n",
       "Denmark               15\n",
       "Vietnam               11\n",
       "Scotland              10\n",
       "Guatemala             10\n",
       "Israel                 9\n",
       "Argentina              9\n",
       "Costa Rica             9\n",
       "Poland                 8\n",
       "Lithuania              6\n",
       "Nicaragua              6\n",
       "Honduras               6\n",
       "Domincan Republic      5\n",
       "South Korea            5\n",
       "Sweden                 5\n",
       "Netherlands            4\n",
       "Fiji                   4\n",
       "Mexico                 4\n",
       "Amsterdam              4\n",
       "Ireland                4\n",
       "Puerto Rico            4\n",
       "Sao Tome               4\n",
       "Iceland                3\n",
       "South Africa           3\n",
       "Singapore              3\n",
       "Grenada                3\n",
       "Portugal               3\n",
       "Finland                2\n",
       "St. Lucia              2\n",
       "Bolivia                2\n",
       "Chile                  2\n",
       "Philippines            1\n",
       "Russia                 1\n",
       "Wales                  1\n",
       "Martinique             1\n",
       "Ghana                  1\n",
       "Czech Republic         1\n",
       "India                  1\n",
       "Suriname               1\n",
       "Name: Company Location, dtype: int64"
      ]
     },
     "execution_count": 59,
     "metadata": {},
     "output_type": "execute_result"
    }
   ],
   "source": [
    "# Checking\n",
    "df['Company Location'].value_counts()"
   ]
  },
  {
   "cell_type": "code",
   "execution_count": null,
   "id": "355d51be",
   "metadata": {},
   "outputs": [],
   "source": []
  }
 ],
 "metadata": {
  "kernelspec": {
   "display_name": "Python 3 (ipykernel)",
   "language": "python",
   "name": "python3"
  },
  "language_info": {
   "codemirror_mode": {
    "name": "ipython",
    "version": 3
   },
   "file_extension": ".py",
   "mimetype": "text/x-python",
   "name": "python",
   "nbconvert_exporter": "python",
   "pygments_lexer": "ipython3",
   "version": "3.9.13"
  }
 },
 "nbformat": 4,
 "nbformat_minor": 5
}
