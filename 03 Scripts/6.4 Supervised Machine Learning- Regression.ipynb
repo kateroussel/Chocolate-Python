{
 "cells": [
  {
   "cell_type": "markdown",
   "id": "a8d79757",
   "metadata": {},
   "source": [
    "## 6.4 Machine Learning"
   ]
  },
  {
   "cell_type": "markdown",
   "id": "6cd503e2",
   "metadata": {},
   "source": [
    "### This script contains the following:\n",
    "\n",
    "#### 1. Importing libraries and data\n",
    "#### 2. Data cleaning & checking\n",
    "#### 3. Data prep for regression analysis\n",
    "#### 4. Hypothesis\n",
    "#### 5. Regression analysis"
   ]
  },
  {
   "cell_type": "markdown",
   "id": "8113f3be",
   "metadata": {},
   "source": [
    "### 1. Importing libraries and data"
   ]
  },
  {
   "cell_type": "code",
   "execution_count": 2,
   "id": "ef4978f1",
   "metadata": {},
   "outputs": [],
   "source": [
    "import pandas as pd\n",
    "import numpy as np\n",
    "import seaborn as sns\n",
    "import matplotlib\n",
    "import matplotlib.pyplot as plt\n",
    "import os\n",
    "import sklearn\n",
    "from sklearn.model_selection import train_test_split \n",
    "from sklearn.linear_model import LinearRegression\n",
    "from sklearn.metrics import mean_squared_error, r2_score"
   ]
  },
  {
   "cell_type": "code",
   "execution_count": 3,
   "id": "8cde650a",
   "metadata": {},
   "outputs": [],
   "source": [
    "%matplotlib inline"
   ]
  },
  {
   "cell_type": "code",
   "execution_count": 4,
   "id": "db9d8f4b",
   "metadata": {},
   "outputs": [],
   "source": [
    "# Establishing a path\n",
    "path = r'/Users/Kate/Documents/Chocolate Bar Ratings Analysis'"
   ]
  },
  {
   "cell_type": "code",
   "execution_count": 5,
   "id": "360fac72",
   "metadata": {},
   "outputs": [],
   "source": [
    "# Importing data\n",
    "df = pd.read_csv(os.path.join(path, '02 Data', 'Prepared Data', 'chocolate_cleaned2.csv'), index_col=0)"
   ]
  },
  {
   "cell_type": "markdown",
   "id": "98cbbe38",
   "metadata": {},
   "source": [
    "### 2. Data cleaning & checking"
   ]
  },
  {
   "cell_type": "code",
   "execution_count": 6,
   "id": "b2204208",
   "metadata": {},
   "outputs": [
    {
     "data": {
      "text/html": [
       "<div>\n",
       "<style scoped>\n",
       "    .dataframe tbody tr th:only-of-type {\n",
       "        vertical-align: middle;\n",
       "    }\n",
       "\n",
       "    .dataframe tbody tr th {\n",
       "        vertical-align: top;\n",
       "    }\n",
       "\n",
       "    .dataframe thead th {\n",
       "        text-align: right;\n",
       "    }\n",
       "</style>\n",
       "<table border=\"1\" class=\"dataframe\">\n",
       "  <thead>\n",
       "    <tr style=\"text-align: right;\">\n",
       "      <th></th>\n",
       "      <th>Company</th>\n",
       "      <th>Review Date</th>\n",
       "      <th>Cocoa Percent</th>\n",
       "      <th>Company Location</th>\n",
       "      <th>Rating</th>\n",
       "      <th>Broad Origin</th>\n",
       "      <th>Cocoa category</th>\n",
       "    </tr>\n",
       "  </thead>\n",
       "  <tbody>\n",
       "    <tr>\n",
       "      <th>0</th>\n",
       "      <td>A. Morin</td>\n",
       "      <td>2016</td>\n",
       "      <td>0.63</td>\n",
       "      <td>France</td>\n",
       "      <td>3.75</td>\n",
       "      <td>Sao Tome</td>\n",
       "      <td>Low Cocoa Mass</td>\n",
       "    </tr>\n",
       "    <tr>\n",
       "      <th>1</th>\n",
       "      <td>A. Morin</td>\n",
       "      <td>2015</td>\n",
       "      <td>0.70</td>\n",
       "      <td>France</td>\n",
       "      <td>2.75</td>\n",
       "      <td>Togo</td>\n",
       "      <td>Medium Cocoa Mass</td>\n",
       "    </tr>\n",
       "    <tr>\n",
       "      <th>2</th>\n",
       "      <td>A. Morin</td>\n",
       "      <td>2015</td>\n",
       "      <td>0.70</td>\n",
       "      <td>France</td>\n",
       "      <td>3.00</td>\n",
       "      <td>Togo</td>\n",
       "      <td>Medium Cocoa Mass</td>\n",
       "    </tr>\n",
       "    <tr>\n",
       "      <th>3</th>\n",
       "      <td>A. Morin</td>\n",
       "      <td>2015</td>\n",
       "      <td>0.70</td>\n",
       "      <td>France</td>\n",
       "      <td>3.50</td>\n",
       "      <td>Togo</td>\n",
       "      <td>Medium Cocoa Mass</td>\n",
       "    </tr>\n",
       "    <tr>\n",
       "      <th>4</th>\n",
       "      <td>A. Morin</td>\n",
       "      <td>2015</td>\n",
       "      <td>0.70</td>\n",
       "      <td>France</td>\n",
       "      <td>3.50</td>\n",
       "      <td>Peru</td>\n",
       "      <td>Medium Cocoa Mass</td>\n",
       "    </tr>\n",
       "  </tbody>\n",
       "</table>\n",
       "</div>"
      ],
      "text/plain": [
       "    Company  Review Date  Cocoa Percent Company Location  Rating Broad Origin  \\\n",
       "0  A. Morin         2016           0.63           France    3.75     Sao Tome   \n",
       "1  A. Morin         2015           0.70           France    2.75         Togo   \n",
       "2  A. Morin         2015           0.70           France    3.00         Togo   \n",
       "3  A. Morin         2015           0.70           France    3.50         Togo   \n",
       "4  A. Morin         2015           0.70           France    3.50         Peru   \n",
       "\n",
       "      Cocoa category  \n",
       "0     Low Cocoa Mass  \n",
       "1  Medium Cocoa Mass  \n",
       "2  Medium Cocoa Mass  \n",
       "3  Medium Cocoa Mass  \n",
       "4  Medium Cocoa Mass  "
      ]
     },
     "execution_count": 6,
     "metadata": {},
     "output_type": "execute_result"
    }
   ],
   "source": [
    "df.head()"
   ]
  },
  {
   "cell_type": "code",
   "execution_count": 7,
   "id": "fa7bed91",
   "metadata": {},
   "outputs": [
    {
     "data": {
      "text/plain": [
       "(1795, 7)"
      ]
     },
     "execution_count": 7,
     "metadata": {},
     "output_type": "execute_result"
    }
   ],
   "source": [
    "df.shape"
   ]
  },
  {
   "cell_type": "code",
   "execution_count": 11,
   "id": "1b5ad88b",
   "metadata": {},
   "outputs": [],
   "source": [
    "# Rename the \"Broad Origin\" column\n",
    "\n",
    "df = df.rename(columns = {'Broad Origin' : 'Origin'})"
   ]
  },
  {
   "cell_type": "code",
   "execution_count": 12,
   "id": "4abe0c12",
   "metadata": {},
   "outputs": [
    {
     "data": {
      "text/plain": [
       "Company             0\n",
       "Review Date         0\n",
       "Cocoa Percent       0\n",
       "Company Location    0\n",
       "Rating              0\n",
       "Origin              1\n",
       "Cocoa category      0\n",
       "dtype: int64"
      ]
     },
     "execution_count": 12,
     "metadata": {},
     "output_type": "execute_result"
    }
   ],
   "source": [
    "# Check for missing values\n",
    "\n",
    "df.isnull().sum()"
   ]
  },
  {
   "cell_type": "code",
   "execution_count": 14,
   "id": "baa94853",
   "metadata": {},
   "outputs": [],
   "source": [
    "# Drop rows with missing values\n",
    "df.dropna(subset=['Origin'], inplace=True)"
   ]
  },
  {
   "cell_type": "code",
   "execution_count": 15,
   "id": "ea85ac1b",
   "metadata": {},
   "outputs": [
    {
     "data": {
      "text/plain": [
       "Company             0\n",
       "Review Date         0\n",
       "Cocoa Percent       0\n",
       "Company Location    0\n",
       "Rating              0\n",
       "Origin              0\n",
       "Cocoa category      0\n",
       "dtype: int64"
      ]
     },
     "execution_count": 15,
     "metadata": {},
     "output_type": "execute_result"
    }
   ],
   "source": [
    "# Verify that there are no more missing values\n",
    "df.isnull().sum()"
   ]
  },
  {
   "cell_type": "code",
   "execution_count": 17,
   "id": "0ed9815d",
   "metadata": {},
   "outputs": [
    {
     "name": "stderr",
     "output_type": "stream",
     "text": [
      "/Users/Kate/opt/anaconda3/lib/python3.9/site-packages/seaborn/distributions.py:2619: FutureWarning: `distplot` is a deprecated function and will be removed in a future version. Please adapt your code to use either `displot` (a figure-level function with similar flexibility) or `histplot` (an axes-level function for histograms).\n",
      "  warnings.warn(msg, FutureWarning)\n"
     ]
    },
    {
     "data": {
      "text/plain": [
       "<AxesSubplot:xlabel='Rating', ylabel='Density'>"
      ]
     },
     "execution_count": 17,
     "metadata": {},
     "output_type": "execute_result"
    },
    {
     "data": {
      "image/png": "[encoded data removed]",
      "text/plain": [
       "<Figure size 640x480 with 1 Axes>"
      ]
     },
     "metadata": {},
     "output_type": "display_data"
    }
   ],
   "source": [
    "sns.distplot(df['Rating'], bins=25) # Shows extreme values"
   ]
  },
  {
   "cell_type": "code",
   "execution_count": 18,
   "id": "f64fceca",
   "metadata": {},
   "outputs": [
    {
     "data": {
      "text/plain": [
       "3.186315496098105"
      ]
     },
     "execution_count": 18,
     "metadata": {},
     "output_type": "execute_result"
    }
   ],
   "source": [
    "df['Rating'].mean() # Check the mean"
   ]
  },
  {
   "cell_type": "code",
   "execution_count": 19,
   "id": "a8349012",
   "metadata": {},
   "outputs": [
    {
     "data": {
      "text/plain": [
       "3.25"
      ]
     },
     "execution_count": 19,
     "metadata": {},
     "output_type": "execute_result"
    }
   ],
   "source": [
    "df['Rating'].median() # Check the median"
   ]
  },
  {
   "cell_type": "code",
   "execution_count": 20,
   "id": "64fd1431",
   "metadata": {},
   "outputs": [
    {
     "data": {
      "text/plain": [
       "5.0"
      ]
     },
     "execution_count": 20,
     "metadata": {},
     "output_type": "execute_result"
    }
   ],
   "source": [
    "df['Rating'].max() # Check the max"
   ]
  },
  {
   "cell_type": "markdown",
   "id": "c2b1aead",
   "metadata": {},
   "source": [
    "### 3. Data prep for regression analysis "
   ]
  },
  {
   "cell_type": "code",
   "execution_count": 38,
   "id": "561ccc03",
   "metadata": {},
   "outputs": [
    {
     "data": {
      "image/png": "[encoded data removed]",
      "text/plain": [
       "<Figure size 640x480 with 1 Axes>"
      ]
     },
     "metadata": {},
     "output_type": "display_data"
    }
   ],
   "source": [
    "# Create a scatterplot using matplotlib for another look at how the chosen variables plot against each other.\n",
    "\n",
    "df.plot(x = 'Cocoa Percent', y='Rating',style='o') # The style option creates a scatterplot; without it, we only have lines.\n",
    "plt.title('Cocoa Percent vs ')  \n",
    "plt.xlabel('Cocoa Percent')  \n",
    "plt.ylabel('Rating')  \n",
    "plt.show()"
   ]
  },
  {
   "cell_type": "markdown",
   "id": "0c7695ff",
   "metadata": {},
   "source": [
    "### 4. Hypothesis"
   ]
  },
  {
   "cell_type": "markdown",
   "id": "bacafeb1",
   "metadata": {},
   "source": [
    "Hypothesis: As Cocoa Percent goes up, Rating will go down. \n",
    "\n",
    "Note: Cocoa Percent refers to what percent of the chocolate bar's weight was contributed by cacao beans. Other ingredients may include sugar, cocoa butter, and flavorings like vanilla or spices. Most people prefer a mid-point cocoa percent, and darker chocolate (in the 85%+ range) seems to be less desired, and therefore lower-rated."
   ]
  },
  {
   "cell_type": "markdown",
   "id": "40f1c6a7",
   "metadata": {},
   "source": [
    "### 4. Regression analysis"
   ]
  },
  {
   "cell_type": "code",
   "execution_count": 39,
   "id": "2fbd45a7",
   "metadata": {},
   "outputs": [],
   "source": [
    "# Reshape the variables into NumPy arrays and put them into separate objects.\n",
    "\n",
    "X = df['Cocoa Percent'].values.reshape(-1,1)\n",
    "y = df['Rating'].values.reshape(-1,1)"
   ]
  },
  {
   "cell_type": "code",
   "execution_count": 40,
   "id": "778d94f8",
   "metadata": {},
   "outputs": [
    {
     "data": {
      "text/plain": [
       "array([[0.63],\n",
       "       [0.7 ],\n",
       "       [0.7 ],\n",
       "       ...,\n",
       "       [0.65],\n",
       "       [0.62],\n",
       "       [0.65]])"
      ]
     },
     "execution_count": 40,
     "metadata": {},
     "output_type": "execute_result"
    }
   ],
   "source": [
    "X"
   ]
  },
  {
   "cell_type": "code",
   "execution_count": 41,
   "id": "33429f50",
   "metadata": {},
   "outputs": [
    {
     "data": {
      "text/plain": [
       "array([[3.75],\n",
       "       [2.75],\n",
       "       [3.  ],\n",
       "       ...,\n",
       "       [3.5 ],\n",
       "       [3.25],\n",
       "       [3.  ]])"
      ]
     },
     "execution_count": 41,
     "metadata": {},
     "output_type": "execute_result"
    }
   ],
   "source": [
    "y"
   ]
  },
  {
   "cell_type": "code",
   "execution_count": 42,
   "id": "765c5a44",
   "metadata": {},
   "outputs": [],
   "source": [
    "# Split data into a training set and a test set.\n",
    "\n",
    "X_train, X_test, y_train, y_test = train_test_split(X, y, test_size=0.3, random_state=0)"
   ]
  },
  {
   "cell_type": "code",
   "execution_count": 43,
   "id": "4623b661",
   "metadata": {},
   "outputs": [],
   "source": [
    "# Create a regression object.\n",
    "\n",
    "regression = LinearRegression()  # This is the regression object, which will be fit onto the training set."
   ]
  },
  {
   "cell_type": "code",
   "execution_count": 44,
   "id": "00fb0fdc",
   "metadata": {},
   "outputs": [
    {
     "data": {
      "text/plain": [
       "LinearRegression()"
      ]
     },
     "execution_count": 44,
     "metadata": {},
     "output_type": "execute_result"
    }
   ],
   "source": [
    "# Fit the regression object onto the training set.\n",
    "\n",
    "regression.fit(X_train, y_train)"
   ]
  },
  {
   "cell_type": "code",
   "execution_count": 45,
   "id": "1f68b5bf",
   "metadata": {},
   "outputs": [],
   "source": [
    "# Predict the values of y using X.\n",
    "\n",
    "y_predicted = regression.predict(X_test)"
   ]
  },
  {
   "cell_type": "code",
   "execution_count": 46,
   "id": "fad813ce",
   "metadata": {},
   "outputs": [
    {
     "data": {
      "image/png": "[encoded data removed]",
      "text/plain": [
       "<Figure size 640x480 with 1 Axes>"
      ]
     },
     "metadata": {},
     "output_type": "display_data"
    }
   ],
   "source": [
    "# Create a plot that shows the regression line from the model on the test set.\n",
    "\n",
    "plot_test = plt\n",
    "plot_test.scatter(X_test, y_test, color='gray', s = 15)\n",
    "plot_test.plot(X_test, y_predicted, color='red', linewidth =3)\n",
    "plot_test.title('Cocoa Percent vs Rating (Test set)')\n",
    "plot_test.xlabel('Cocoa Percent')\n",
    "plot_test.ylabel('Rating')\n",
    "plot_test.show()"
   ]
  },
  {
   "cell_type": "markdown",
   "id": "1428f682",
   "metadata": {},
   "source": [
    "Q: Write your own interpretation of how well the line appears to fit the data.\n",
    "\n",
    "A: The slope of the line is negative, implying a negative correlation between the two variables. I think this validates my hypothesis, showing that as the cocoa percent goes up, the average rating goes down. "
   ]
  },
  {
   "cell_type": "code",
   "execution_count": 47,
   "id": "3acbcb78",
   "metadata": {},
   "outputs": [],
   "source": [
    "# Create objects that contain the model summary statistics.\n",
    "\n",
    "rmse = mean_squared_error(y_test, y_predicted) # This is the mean squared error\n",
    "r2 = r2_score(y_test, y_predicted) # This is the R2 score. "
   ]
  },
  {
   "cell_type": "code",
   "execution_count": 48,
   "id": "4e3f1518",
   "metadata": {},
   "outputs": [
    {
     "name": "stdout",
     "output_type": "stream",
     "text": [
      "Slope: [[-1.31583879]]\n",
      "Mean squared error:  0.2244016702630918\n",
      "R2 score:  0.018378690539589737\n"
     ]
    }
   ],
   "source": [
    "# Print the model summary statistics. This is where you evaluate the performance of the model.\n",
    "\n",
    "print('Slope:' ,regression.coef_)\n",
    "print('Mean squared error: ', rmse)\n",
    "print('R2 score: ', r2)"
   ]
  },
  {
   "cell_type": "code",
   "execution_count": 49,
   "id": "a408ea32",
   "metadata": {},
   "outputs": [
    {
     "data": {
      "text/plain": [
       "array([[3.13912603],\n",
       "       [3.17860119],\n",
       "       [3.20491797],\n",
       "       [3.20491797],\n",
       "       [3.07333409],\n",
       "       [3.40229379],\n",
       "       [3.20491797],\n",
       "       [3.13912603],\n",
       "       [3.25755152],\n",
       "       [3.20491797],\n",
       "       [3.2838683 ],\n",
       "       [3.20491797],\n",
       "       [3.17860119],\n",
       "       [3.20491797],\n",
       "       [3.13912603],\n",
       "       [3.07333409],\n",
       "       [3.00754215],\n",
       "       [3.17860119],\n",
       "       [3.20491797],\n",
       "       [3.20491797],\n",
       "       [3.20491797],\n",
       "       [3.16544281],\n",
       "       [3.40229379],\n",
       "       [3.13912603],\n",
       "       [3.33650185],\n",
       "       [2.81016633],\n",
       "       [3.13912603],\n",
       "       [3.23123475],\n",
       "       [3.20491797],\n",
       "       [3.23123475],\n",
       "       [3.17860119],\n",
       "       [3.20491797],\n",
       "       [3.20491797],\n",
       "       [3.20491797],\n",
       "       [3.00754215],\n",
       "       [3.20491797],\n",
       "       [3.17860119],\n",
       "       [3.2838683 ],\n",
       "       [3.17860119],\n",
       "       [3.20491797],\n",
       "       [3.20491797],\n",
       "       [3.23123475],\n",
       "       [3.13912603],\n",
       "       [3.40229379],\n",
       "       [3.20491797],\n",
       "       [3.33650185],\n",
       "       [3.11280925],\n",
       "       [3.13912603],\n",
       "       [3.40229379],\n",
       "       [3.20491797],\n",
       "       [3.20491797],\n",
       "       [3.20491797],\n",
       "       [3.16544281],\n",
       "       [3.31018507],\n",
       "       [3.17860119],\n",
       "       [3.20491797],\n",
       "       [3.17860119],\n",
       "       [3.17860119],\n",
       "       [3.19175958],\n",
       "       [3.03385893],\n",
       "       [3.20491797],\n",
       "       [3.13912603],\n",
       "       [3.08649248],\n",
       "       [3.17860119],\n",
       "       [3.20491797],\n",
       "       [3.20491797],\n",
       "       [3.13912603],\n",
       "       [3.11280925],\n",
       "       [3.23123475],\n",
       "       [3.20491797],\n",
       "       [3.17860119],\n",
       "       [3.23123475],\n",
       "       [3.15228442],\n",
       "       [3.20491797],\n",
       "       [3.17860119],\n",
       "       [2.81016633],\n",
       "       [3.20491797],\n",
       "       [3.36281862],\n",
       "       [3.20491797],\n",
       "       [3.13912603],\n",
       "       [3.20491797],\n",
       "       [3.17860119],\n",
       "       [3.13912603],\n",
       "       [3.20491797],\n",
       "       [3.20491797],\n",
       "       [3.20491797],\n",
       "       [3.17860119],\n",
       "       [3.17860119],\n",
       "       [3.20491797],\n",
       "       [3.33650185],\n",
       "       [3.00754215],\n",
       "       [3.20491797],\n",
       "       [3.17860119],\n",
       "       [3.33650185],\n",
       "       [3.12596764],\n",
       "       [3.20491797],\n",
       "       [3.20491797],\n",
       "       [3.33650185],\n",
       "       [3.20491797],\n",
       "       [3.0601757 ],\n",
       "       [3.17860119],\n",
       "       [3.20491797],\n",
       "       [3.20491797],\n",
       "       [3.17860119],\n",
       "       [3.13912603],\n",
       "       [3.2838683 ],\n",
       "       [3.03385893],\n",
       "       [3.20491797],\n",
       "       [3.12596764],\n",
       "       [3.20491797],\n",
       "       [3.13912603],\n",
       "       [3.20491797],\n",
       "       [3.20491797],\n",
       "       [3.24439313],\n",
       "       [3.20491797],\n",
       "       [3.17860119],\n",
       "       [3.20491797],\n",
       "       [3.20491797],\n",
       "       [3.20491797],\n",
       "       [3.13912603],\n",
       "       [3.27070991],\n",
       "       [3.17860119],\n",
       "       [3.20491797],\n",
       "       [3.20491797],\n",
       "       [3.17860119],\n",
       "       [3.20491797],\n",
       "       [3.07333409],\n",
       "       [3.20491797],\n",
       "       [3.15228442],\n",
       "       [3.20491797],\n",
       "       [3.13912603],\n",
       "       [3.17860119],\n",
       "       [3.13912603],\n",
       "       [3.20491797],\n",
       "       [3.07333409],\n",
       "       [3.20491797],\n",
       "       [3.07333409],\n",
       "       [3.17860119],\n",
       "       [3.33650185],\n",
       "       [3.13912603],\n",
       "       [3.20491797],\n",
       "       [3.20491797],\n",
       "       [3.20491797],\n",
       "       [3.20491797],\n",
       "       [3.20491797],\n",
       "       [3.11280925],\n",
       "       [3.20491797],\n",
       "       [3.20491797],\n",
       "       [3.15228442],\n",
       "       [3.17860119],\n",
       "       [3.20491797],\n",
       "       [3.20491797],\n",
       "       [3.20491797],\n",
       "       [3.20491797],\n",
       "       [3.25755152],\n",
       "       [3.21807636],\n",
       "       [3.19175958],\n",
       "       [3.13912603],\n",
       "       [3.11280925],\n",
       "       [3.2838683 ],\n",
       "       [3.20491797],\n",
       "       [2.81016633],\n",
       "       [3.13912603],\n",
       "       [3.27070991],\n",
       "       [3.20491797],\n",
       "       [3.20491797],\n",
       "       [3.20491797],\n",
       "       [3.19175958],\n",
       "       [3.13912603],\n",
       "       [3.40229379],\n",
       "       [3.15228442],\n",
       "       [3.17860119],\n",
       "       [2.81016633],\n",
       "       [3.25755152],\n",
       "       [3.13912603],\n",
       "       [3.17860119],\n",
       "       [3.17860119],\n",
       "       [3.23123475],\n",
       "       [3.17860119],\n",
       "       [3.20491797],\n",
       "       [3.27070991],\n",
       "       [3.20491797],\n",
       "       [3.20491797],\n",
       "       [3.07333409],\n",
       "       [3.13912603],\n",
       "       [3.20491797],\n",
       "       [3.17860119],\n",
       "       [3.20491797],\n",
       "       [3.17860119],\n",
       "       [3.15228442],\n",
       "       [3.27070991],\n",
       "       [3.17860119],\n",
       "       [3.20491797],\n",
       "       [3.17860119],\n",
       "       [3.13912603],\n",
       "       [3.19175958],\n",
       "       [3.13912603],\n",
       "       [3.20491797],\n",
       "       [3.27070991],\n",
       "       [3.20491797],\n",
       "       [3.17860119],\n",
       "       [3.13912603],\n",
       "       [3.20491797],\n",
       "       [3.27070991],\n",
       "       [3.20491797],\n",
       "       [3.07333409],\n",
       "       [3.20491797],\n",
       "       [3.2838683 ],\n",
       "       [3.17860119],\n",
       "       [3.16544281],\n",
       "       [3.20491797],\n",
       "       [3.20491797],\n",
       "       [3.20491797],\n",
       "       [3.20491797],\n",
       "       [3.15228442],\n",
       "       [3.20491797],\n",
       "       [3.20491797],\n",
       "       [3.13912603],\n",
       "       [3.17860119],\n",
       "       [3.20491797],\n",
       "       [3.20491797],\n",
       "       [3.17860119],\n",
       "       [3.20491797],\n",
       "       [3.20491797],\n",
       "       [3.13912603],\n",
       "       [3.20491797],\n",
       "       [3.23123475],\n",
       "       [3.00754215],\n",
       "       [3.13912603],\n",
       "       [3.20491797],\n",
       "       [3.20491797],\n",
       "       [3.31018507],\n",
       "       [3.11280925],\n",
       "       [3.17860119],\n",
       "       [3.20491797],\n",
       "       [3.20491797],\n",
       "       [3.20491797],\n",
       "       [2.81016633],\n",
       "       [3.17860119],\n",
       "       [3.00754215],\n",
       "       [3.29702669],\n",
       "       [3.17860119],\n",
       "       [3.33650185],\n",
       "       [3.07333409],\n",
       "       [3.20491797],\n",
       "       [3.2838683 ],\n",
       "       [3.17860119],\n",
       "       [3.13912603],\n",
       "       [3.2838683 ],\n",
       "       [3.20491797],\n",
       "       [3.13912603],\n",
       "       [3.17860119],\n",
       "       [3.20491797],\n",
       "       [3.27070991],\n",
       "       [3.20491797],\n",
       "       [3.20491797],\n",
       "       [3.20491797],\n",
       "       [3.27070991],\n",
       "       [3.33650185],\n",
       "       [3.17860119],\n",
       "       [3.27070991],\n",
       "       [3.20491797],\n",
       "       [3.13912603],\n",
       "       [3.02070054],\n",
       "       [3.20491797],\n",
       "       [3.25755152],\n",
       "       [3.23123475],\n",
       "       [3.17860119],\n",
       "       [3.13912603],\n",
       "       [3.13912603],\n",
       "       [3.20491797],\n",
       "       [3.27070991],\n",
       "       [3.17860119],\n",
       "       [3.20491797],\n",
       "       [3.16544281],\n",
       "       [3.13912603],\n",
       "       [3.13912603],\n",
       "       [3.20491797],\n",
       "       [3.13912603],\n",
       "       [3.31018507],\n",
       "       [3.20491797],\n",
       "       [3.20491797],\n",
       "       [3.17860119],\n",
       "       [3.07333409],\n",
       "       [3.16544281],\n",
       "       [3.20491797],\n",
       "       [3.23123475],\n",
       "       [3.20491797],\n",
       "       [3.19175958],\n",
       "       [3.17860119],\n",
       "       [3.09965087],\n",
       "       [3.16544281],\n",
       "       [3.20491797],\n",
       "       [3.27070991],\n",
       "       [3.20491797],\n",
       "       [3.20491797],\n",
       "       [3.17860119],\n",
       "       [3.13912603],\n",
       "       [3.13912603],\n",
       "       [3.17860119],\n",
       "       [3.23123475],\n",
       "       [3.20491797],\n",
       "       [3.07333409],\n",
       "       [3.17860119],\n",
       "       [3.15228442],\n",
       "       [3.20491797],\n",
       "       [3.27070991],\n",
       "       [3.20491797],\n",
       "       [3.27070991],\n",
       "       [3.13912603],\n",
       "       [3.13912603],\n",
       "       [3.33650185],\n",
       "       [3.23123475],\n",
       "       [3.20491797],\n",
       "       [3.20491797],\n",
       "       [3.2838683 ],\n",
       "       [3.20491797],\n",
       "       [3.20491797],\n",
       "       [3.13912603],\n",
       "       [3.20491797],\n",
       "       [3.00754215],\n",
       "       [3.20491797],\n",
       "       [3.13912603],\n",
       "       [3.16544281],\n",
       "       [3.04701732],\n",
       "       [3.15228442],\n",
       "       [3.20491797],\n",
       "       [3.13912603],\n",
       "       [3.15886361],\n",
       "       [3.13912603],\n",
       "       [3.15228442],\n",
       "       [3.12596764],\n",
       "       [3.20491797],\n",
       "       [3.07333409],\n",
       "       [3.07333409],\n",
       "       [3.32334346],\n",
       "       [3.20491797],\n",
       "       [3.13912603],\n",
       "       [2.92859182],\n",
       "       [3.17860119],\n",
       "       [3.20491797],\n",
       "       [3.17860119],\n",
       "       [3.07333409],\n",
       "       [3.20491797],\n",
       "       [3.07333409],\n",
       "       [3.23123475],\n",
       "       [3.29702669],\n",
       "       [3.17860119],\n",
       "       [3.13912603],\n",
       "       [3.20491797],\n",
       "       [3.20491797],\n",
       "       [3.09965087],\n",
       "       [3.17860119],\n",
       "       [3.02070054],\n",
       "       [3.07333409],\n",
       "       [3.33650185],\n",
       "       [2.81016633],\n",
       "       [3.11280925],\n",
       "       [3.07333409],\n",
       "       [3.13912603],\n",
       "       [3.17860119],\n",
       "       [3.17860119],\n",
       "       [3.12596764],\n",
       "       [3.00754215],\n",
       "       [3.20491797],\n",
       "       [3.20491797],\n",
       "       [3.13912603],\n",
       "       [3.20491797],\n",
       "       [3.20491797],\n",
       "       [3.20491797],\n",
       "       [3.20491797],\n",
       "       [3.17860119],\n",
       "       [3.20491797],\n",
       "       [3.20491797],\n",
       "       [3.20491797],\n",
       "       [3.2838683 ],\n",
       "       [3.20491797],\n",
       "       [3.17860119],\n",
       "       [3.11280925],\n",
       "       [3.11280925],\n",
       "       [3.13912603],\n",
       "       [3.20491797],\n",
       "       [3.07333409],\n",
       "       [3.27070991],\n",
       "       [3.07333409],\n",
       "       [3.27070991],\n",
       "       [3.20491797],\n",
       "       [3.09965087],\n",
       "       [3.20491797],\n",
       "       [3.20491797],\n",
       "       [3.20491797],\n",
       "       [3.13912603],\n",
       "       [3.20491797],\n",
       "       [3.17860119],\n",
       "       [3.13912603],\n",
       "       [3.04701732],\n",
       "       [3.20491797],\n",
       "       [3.20491797],\n",
       "       [3.20491797],\n",
       "       [3.20491797],\n",
       "       [3.07333409],\n",
       "       [3.20491797],\n",
       "       [3.17860119],\n",
       "       [3.17860119],\n",
       "       [3.04701732],\n",
       "       [3.29702669],\n",
       "       [3.23123475],\n",
       "       [3.33650185],\n",
       "       [3.20491797],\n",
       "       [3.20491797],\n",
       "       [3.20491797],\n",
       "       [3.09965087],\n",
       "       [3.20491797],\n",
       "       [3.09965087],\n",
       "       [3.20491797],\n",
       "       [2.96806699],\n",
       "       [3.20491797],\n",
       "       [3.20491797],\n",
       "       [3.20491797],\n",
       "       [2.9549086 ],\n",
       "       [3.20491797],\n",
       "       [3.20491797],\n",
       "       [3.17860119],\n",
       "       [3.17860119],\n",
       "       [3.20491797],\n",
       "       [2.96806699],\n",
       "       [3.17860119],\n",
       "       [3.27070991],\n",
       "       [3.11280925],\n",
       "       [3.20491797],\n",
       "       [3.17860119],\n",
       "       [3.0601757 ],\n",
       "       [3.17860119],\n",
       "       [3.2838683 ],\n",
       "       [3.20491797],\n",
       "       [3.20491797],\n",
       "       [3.20491797],\n",
       "       [3.20491797],\n",
       "       [3.20491797],\n",
       "       [3.20491797],\n",
       "       [3.13912603],\n",
       "       [3.33650185],\n",
       "       [3.00754215],\n",
       "       [3.20491797],\n",
       "       [3.29702669],\n",
       "       [3.20491797],\n",
       "       [3.20491797],\n",
       "       [3.23123475],\n",
       "       [2.94175021],\n",
       "       [3.13912603],\n",
       "       [3.20491797],\n",
       "       [3.23123475],\n",
       "       [3.20491797],\n",
       "       [3.20491797],\n",
       "       [3.40229379],\n",
       "       [3.20491797],\n",
       "       [3.07333409],\n",
       "       [3.20491797],\n",
       "       [3.20491797],\n",
       "       [3.13912603],\n",
       "       [3.13912603],\n",
       "       [3.20491797],\n",
       "       [3.33650185],\n",
       "       [2.96806699],\n",
       "       [3.20491797],\n",
       "       [3.13912603],\n",
       "       [3.17860119],\n",
       "       [3.07333409],\n",
       "       [3.15228442],\n",
       "       [3.20491797],\n",
       "       [3.19175958],\n",
       "       [2.94175021],\n",
       "       [3.20491797],\n",
       "       [3.20491797],\n",
       "       [3.20491797],\n",
       "       [3.20491797],\n",
       "       [3.20491797],\n",
       "       [3.20491797],\n",
       "       [3.20491797],\n",
       "       [3.24439313],\n",
       "       [3.00754215],\n",
       "       [3.20491797],\n",
       "       [3.33650185],\n",
       "       [3.20491797],\n",
       "       [3.20491797],\n",
       "       [3.17860119],\n",
       "       [3.29702669],\n",
       "       [3.17860119],\n",
       "       [3.17860119],\n",
       "       [3.27070991],\n",
       "       [3.20491797],\n",
       "       [3.11280925],\n",
       "       [3.15228442],\n",
       "       [3.32334346],\n",
       "       [3.36281862],\n",
       "       [3.13912603],\n",
       "       [3.33650185],\n",
       "       [3.13912603],\n",
       "       [3.17860119],\n",
       "       [3.09965087],\n",
       "       [3.13912603],\n",
       "       [3.16544281],\n",
       "       [3.32334346],\n",
       "       [3.13912603],\n",
       "       [3.13912603],\n",
       "       [3.04701732],\n",
       "       [3.20491797],\n",
       "       [3.20491797],\n",
       "       [3.17860119],\n",
       "       [3.20491797],\n",
       "       [3.27070991],\n",
       "       [3.20491797],\n",
       "       [3.20491797],\n",
       "       [3.20491797],\n",
       "       [3.27070991],\n",
       "       [3.13912603],\n",
       "       [3.13912603],\n",
       "       [3.07333409],\n",
       "       [2.94175021],\n",
       "       [3.15228442],\n",
       "       [3.13912603],\n",
       "       [3.20491797],\n",
       "       [3.15228442],\n",
       "       [3.20491797],\n",
       "       [3.27070991],\n",
       "       [3.13912603],\n",
       "       [3.13912603],\n",
       "       [3.13912603],\n",
       "       [3.20491797],\n",
       "       [3.00754215],\n",
       "       [3.13912603],\n",
       "       [3.24439313],\n",
       "       [3.07333409],\n",
       "       [3.12596764],\n",
       "       [3.20491797],\n",
       "       [3.04701732],\n",
       "       [3.12596764],\n",
       "       [3.20491797],\n",
       "       [3.13912603]])"
      ]
     },
     "execution_count": 49,
     "metadata": {},
     "output_type": "execute_result"
    }
   ],
   "source": [
    "y_predicted"
   ]
  },
  {
   "cell_type": "code",
   "execution_count": 50,
   "id": "c6713ed2",
   "metadata": {},
   "outputs": [
    {
     "data": {
      "text/html": [
       "<div>\n",
       "<style scoped>\n",
       "    .dataframe tbody tr th:only-of-type {\n",
       "        vertical-align: middle;\n",
       "    }\n",
       "\n",
       "    .dataframe tbody tr th {\n",
       "        vertical-align: top;\n",
       "    }\n",
       "\n",
       "    .dataframe thead th {\n",
       "        text-align: right;\n",
       "    }\n",
       "</style>\n",
       "<table border=\"1\" class=\"dataframe\">\n",
       "  <thead>\n",
       "    <tr style=\"text-align: right;\">\n",
       "      <th></th>\n",
       "      <th>Actual</th>\n",
       "      <th>Predicted</th>\n",
       "    </tr>\n",
       "  </thead>\n",
       "  <tbody>\n",
       "    <tr>\n",
       "      <th>0</th>\n",
       "      <td>3.00</td>\n",
       "      <td>3.139126</td>\n",
       "    </tr>\n",
       "    <tr>\n",
       "      <th>1</th>\n",
       "      <td>2.75</td>\n",
       "      <td>3.178601</td>\n",
       "    </tr>\n",
       "    <tr>\n",
       "      <th>2</th>\n",
       "      <td>2.50</td>\n",
       "      <td>3.204918</td>\n",
       "    </tr>\n",
       "    <tr>\n",
       "      <th>3</th>\n",
       "      <td>3.25</td>\n",
       "      <td>3.204918</td>\n",
       "    </tr>\n",
       "    <tr>\n",
       "      <th>4</th>\n",
       "      <td>3.25</td>\n",
       "      <td>3.073334</td>\n",
       "    </tr>\n",
       "    <tr>\n",
       "      <th>5</th>\n",
       "      <td>2.75</td>\n",
       "      <td>3.402294</td>\n",
       "    </tr>\n",
       "    <tr>\n",
       "      <th>6</th>\n",
       "      <td>3.50</td>\n",
       "      <td>3.204918</td>\n",
       "    </tr>\n",
       "    <tr>\n",
       "      <th>7</th>\n",
       "      <td>2.50</td>\n",
       "      <td>3.139126</td>\n",
       "    </tr>\n",
       "    <tr>\n",
       "      <th>8</th>\n",
       "      <td>3.50</td>\n",
       "      <td>3.257552</td>\n",
       "    </tr>\n",
       "    <tr>\n",
       "      <th>9</th>\n",
       "      <td>3.25</td>\n",
       "      <td>3.204918</td>\n",
       "    </tr>\n",
       "    <tr>\n",
       "      <th>10</th>\n",
       "      <td>2.75</td>\n",
       "      <td>3.283868</td>\n",
       "    </tr>\n",
       "    <tr>\n",
       "      <th>11</th>\n",
       "      <td>4.00</td>\n",
       "      <td>3.204918</td>\n",
       "    </tr>\n",
       "    <tr>\n",
       "      <th>12</th>\n",
       "      <td>3.00</td>\n",
       "      <td>3.178601</td>\n",
       "    </tr>\n",
       "    <tr>\n",
       "      <th>13</th>\n",
       "      <td>3.50</td>\n",
       "      <td>3.204918</td>\n",
       "    </tr>\n",
       "    <tr>\n",
       "      <th>14</th>\n",
       "      <td>3.25</td>\n",
       "      <td>3.139126</td>\n",
       "    </tr>\n",
       "    <tr>\n",
       "      <th>15</th>\n",
       "      <td>2.75</td>\n",
       "      <td>3.073334</td>\n",
       "    </tr>\n",
       "    <tr>\n",
       "      <th>16</th>\n",
       "      <td>1.50</td>\n",
       "      <td>3.007542</td>\n",
       "    </tr>\n",
       "    <tr>\n",
       "      <th>17</th>\n",
       "      <td>3.00</td>\n",
       "      <td>3.178601</td>\n",
       "    </tr>\n",
       "    <tr>\n",
       "      <th>18</th>\n",
       "      <td>2.75</td>\n",
       "      <td>3.204918</td>\n",
       "    </tr>\n",
       "    <tr>\n",
       "      <th>19</th>\n",
       "      <td>3.75</td>\n",
       "      <td>3.204918</td>\n",
       "    </tr>\n",
       "    <tr>\n",
       "      <th>20</th>\n",
       "      <td>3.00</td>\n",
       "      <td>3.204918</td>\n",
       "    </tr>\n",
       "    <tr>\n",
       "      <th>21</th>\n",
       "      <td>3.50</td>\n",
       "      <td>3.165443</td>\n",
       "    </tr>\n",
       "    <tr>\n",
       "      <th>22</th>\n",
       "      <td>2.75</td>\n",
       "      <td>3.402294</td>\n",
       "    </tr>\n",
       "    <tr>\n",
       "      <th>23</th>\n",
       "      <td>2.00</td>\n",
       "      <td>3.139126</td>\n",
       "    </tr>\n",
       "    <tr>\n",
       "      <th>24</th>\n",
       "      <td>3.00</td>\n",
       "      <td>3.336502</td>\n",
       "    </tr>\n",
       "    <tr>\n",
       "      <th>25</th>\n",
       "      <td>3.00</td>\n",
       "      <td>2.810166</td>\n",
       "    </tr>\n",
       "    <tr>\n",
       "      <th>26</th>\n",
       "      <td>3.00</td>\n",
       "      <td>3.139126</td>\n",
       "    </tr>\n",
       "    <tr>\n",
       "      <th>27</th>\n",
       "      <td>3.50</td>\n",
       "      <td>3.231235</td>\n",
       "    </tr>\n",
       "    <tr>\n",
       "      <th>28</th>\n",
       "      <td>3.00</td>\n",
       "      <td>3.204918</td>\n",
       "    </tr>\n",
       "    <tr>\n",
       "      <th>29</th>\n",
       "      <td>3.75</td>\n",
       "      <td>3.231235</td>\n",
       "    </tr>\n",
       "  </tbody>\n",
       "</table>\n",
       "</div>"
      ],
      "text/plain": [
       "    Actual  Predicted\n",
       "0     3.00   3.139126\n",
       "1     2.75   3.178601\n",
       "2     2.50   3.204918\n",
       "3     3.25   3.204918\n",
       "4     3.25   3.073334\n",
       "5     2.75   3.402294\n",
       "6     3.50   3.204918\n",
       "7     2.50   3.139126\n",
       "8     3.50   3.257552\n",
       "9     3.25   3.204918\n",
       "10    2.75   3.283868\n",
       "11    4.00   3.204918\n",
       "12    3.00   3.178601\n",
       "13    3.50   3.204918\n",
       "14    3.25   3.139126\n",
       "15    2.75   3.073334\n",
       "16    1.50   3.007542\n",
       "17    3.00   3.178601\n",
       "18    2.75   3.204918\n",
       "19    3.75   3.204918\n",
       "20    3.00   3.204918\n",
       "21    3.50   3.165443\n",
       "22    2.75   3.402294\n",
       "23    2.00   3.139126\n",
       "24    3.00   3.336502\n",
       "25    3.00   2.810166\n",
       "26    3.00   3.139126\n",
       "27    3.50   3.231235\n",
       "28    3.00   3.204918\n",
       "29    3.75   3.231235"
      ]
     },
     "execution_count": 50,
     "metadata": {},
     "output_type": "execute_result"
    }
   ],
   "source": [
    "# Create a dataframe comparing the actual and predicted values of y.\n",
    "\n",
    "data = pd.DataFrame({'Actual': y_test.flatten(), 'Predicted': y_predicted.flatten()})\n",
    "data.head(30)"
   ]
  },
  {
   "cell_type": "markdown",
   "id": "5fc8566f",
   "metadata": {},
   "source": [
    "#### Compare how the regression fits the training set"
   ]
  },
  {
   "cell_type": "code",
   "execution_count": 51,
   "id": "dc92953d",
   "metadata": {},
   "outputs": [],
   "source": [
    "# Predict.\n",
    "\n",
    "y_predicted_train = regression.predict(X_train) # This is predicting X_train!"
   ]
  },
  {
   "cell_type": "code",
   "execution_count": 52,
   "id": "d7482545",
   "metadata": {},
   "outputs": [],
   "source": [
    "rmse = mean_squared_error(y_train, y_predicted_train)\n",
    "r2 = r2_score(y_train, y_predicted_train)"
   ]
  },
  {
   "cell_type": "code",
   "execution_count": 53,
   "id": "fe3c1922",
   "metadata": {},
   "outputs": [
    {
     "name": "stdout",
     "output_type": "stream",
     "text": [
      "Slope: [[-1.31583879]]\n",
      "Mean squared error:  0.2211245643740394\n",
      "R2 score:  0.030664036036711084\n"
     ]
    }
   ],
   "source": [
    "print('Slope:' ,regression.coef_)\n",
    "print('Mean squared error: ', rmse)\n",
    "print('R2 score: ', r2)"
   ]
  },
  {
   "cell_type": "code",
   "execution_count": 54,
   "id": "05263e22",
   "metadata": {},
   "outputs": [
    {
     "data": {
      "image/png": "[encoded data removed]",
      "text/plain": [
       "<Figure size 640x480 with 1 Axes>"
      ]
     },
     "metadata": {},
     "output_type": "display_data"
    }
   ],
   "source": [
    "# Visualizing the training set results.\n",
    "\n",
    "plot_test = plt\n",
    "plot_test.scatter(X_train, y_train, color='green', s = 15)\n",
    "plot_test.plot(X_train, y_predicted_train, color='red', linewidth =3)\n",
    "plot_test.title('Cocoa Percent vs Rating (Train set)')\n",
    "plot_test.xlabel('Cocoa Percent')\n",
    "plot_test.ylabel('Rating')\n",
    "plot_test.show()"
   ]
  },
  {
   "cell_type": "markdown",
   "id": "02aacd02",
   "metadata": {},
   "source": [
    "Q: Include your thoughts on how well the model performed on the test set.\n",
    "\n",
    "A: The R-squared score of the model, which is 0.03, is relatively low. This might indicate that the cocoa percentage alone is not a strong predictor of chocolate bar rating. Other factors, such as the origin or the manufacturing process, may also play a significant role in determining the rating.\n",
    "\n",
    "Overall, while the negative slope shows a clear relationship between cocoa percent and rating, the low R-squared value suggests that other factors may be important in predicting chocolate bar rating. More analysis is needed. "
   ]
  },
  {
   "cell_type": "code",
   "execution_count": null,
   "id": "a5c4d5a9",
   "metadata": {},
   "outputs": [],
   "source": []
  }
 ],
 "metadata": {
  "kernelspec": {
   "display_name": "Python 3 (ipykernel)",
   "language": "python",
   "name": "python3"
  },
  "language_info": {
   "codemirror_mode": {
    "name": "ipython",
    "version": 3
   },
   "file_extension": ".py",
   "mimetype": "text/x-python",
   "name": "python",
   "nbconvert_exporter": "python",
   "pygments_lexer": "ipython3",
   "version": "3.9.13"
  }
 },
 "nbformat": 4,
 "nbformat_minor": 5
}
